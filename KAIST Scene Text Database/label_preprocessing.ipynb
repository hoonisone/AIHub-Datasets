{
 "cells": [
  {
   "cell_type": "markdown",
   "metadata": {},
   "source": [
    "### State check\n",
    "check samples' state, if it can be used or not"
   ]
  },
  {
   "cell_type": "code",
   "execution_count": 1,
   "metadata": {},
   "outputs": [
    {
     "name": "stderr",
     "output_type": "stream",
     "text": [
      "2418it [00:00, 4709.01it/s]"
     ]
    },
    {
     "name": "stdout",
     "output_type": "stream",
     "text": [
      "XML_STATE.NO_ERROR 2370\n",
      "XML_STATE.PARSING_ERROR 0\n",
      "XML_STATE.FORMAT_ERROR 0\n",
      "XML_STATE.PARTIALLY_NO_CHARACTER 48\n",
      "XML_STATE.NO_CHARACTER 0\n"
     ]
    },
    {
     "name": "stderr",
     "output_type": "stream",
     "text": [
      "\n"
     ]
    }
   ],
   "source": [
    "import label_preprocessing_tools as tools\n",
    "inspect_report = tools.inspect_label(tqdm_disable=False)"
   ]
  },
  {
   "cell_type": "markdown",
   "metadata": {},
   "source": [
    "### Correctiont\n",
    "correct the samples whose format is wrong"
   ]
  },
  {
   "cell_type": "code",
   "execution_count": 2,
   "metadata": {},
   "outputs": [
    {
     "name": "stdout",
     "output_type": "stream",
     "text": [
      "XML_STATE.NO_ERROR 2370\n",
      "XML_STATE.PARSING_ERROR 0\n",
      "XML_STATE.FORMAT_ERROR 0\n",
      "XML_STATE.PARTIALLY_NO_CHARACTER 48\n",
      "XML_STATE.NO_CHARACTER 0\n"
     ]
    }
   ],
   "source": [
    "tools.correct_label()\n",
    "tools.inspect_label()"
   ]
  },
  {
   "cell_type": "markdown",
   "metadata": {},
   "source": [
    "### Remove\n",
    "remove the samples whose state is \"no_character\""
   ]
  },
  {
   "cell_type": "code",
   "execution_count": 3,
   "metadata": {},
   "outputs": [
    {
     "name": "stdout",
     "output_type": "stream",
     "text": [
      "0 files were removed!!!\n",
      "XML_STATE.NO_ERROR 2370\n",
      "XML_STATE.PARSING_ERROR 0\n",
      "XML_STATE.FORMAT_ERROR 0\n",
      "XML_STATE.PARTIALLY_NO_CHARACTER 48\n",
      "XML_STATE.NO_CHARACTER 0\n"
     ]
    }
   ],
   "source": [
    "tools.remove_unusable_files()\n",
    "tools.inspect_label()"
   ]
  },
  {
   "cell_type": "markdown",
   "metadata": {},
   "source": [
    "### Make label\n",
    "make label for ppocr test detection"
   ]
  },
  {
   "cell_type": "code",
   "execution_count": 4,
   "metadata": {},
   "outputs": [
    {
     "name": "stdout",
     "output_type": "stream",
     "text": [
      "label file has been made for 2418 samples in 'datasets\\KAIST\\label.txt'\n"
     ]
    }
   ],
   "source": [
    "tools.make_pporc_det_label()"
   ]
  },
  {
   "cell_type": "code",
   "execution_count": null,
   "metadata": {},
   "outputs": [],
   "source": []
  },
  {
   "cell_type": "code",
   "execution_count": null,
   "metadata": {},
   "outputs": [],
   "source": []
  },
  {
   "cell_type": "code",
   "execution_count": null,
   "metadata": {},
   "outputs": [],
   "source": []
  },
  {
   "cell_type": "code",
   "execution_count": null,
   "metadata": {},
   "outputs": [],
   "source": []
  }
 ],
 "metadata": {
  "kernelspec": {
   "display_name": "Python 3",
   "language": "python",
   "name": "python3"
  },
  "language_info": {
   "codemirror_mode": {
    "name": "ipython",
    "version": 3
   },
   "file_extension": ".py",
   "mimetype": "text/x-python",
   "name": "python",
   "nbconvert_exporter": "python",
   "pygments_lexer": "ipython3",
   "version": "3.10.0"
  }
 },
 "nbformat": 4,
 "nbformat_minor": 2
}
