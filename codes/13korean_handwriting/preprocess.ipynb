{
 "cells": [
  {
   "cell_type": "code",
   "execution_count": 1,
   "metadata": {},
   "outputs": [
    {
     "name": "stdout",
     "output_type": "stream",
     "text": [
      "[WindowsPath('E:/workspace/AIHub_Dataset/datasets/13.한국어글자체/01.손글씨/01_handwriting_sentence_images.zip'), WindowsPath('E:/workspace/AIHub_Dataset/datasets/13.한국어글자체/01.손글씨/01_handwriting_syllable_images.zip'), WindowsPath('E:/workspace/AIHub_Dataset/datasets/13.한국어글자체/01.손글씨/01_handwriting_word_images.zip'), WindowsPath('E:/workspace/AIHub_Dataset/datasets/13.한국어글자체/01.손글씨/02_handwriting_sentence_images.zip'), WindowsPath('E:/workspace/AIHub_Dataset/datasets/13.한국어글자체/01.손글씨/02_handwriting_syllable_images.zip'), WindowsPath('E:/workspace/AIHub_Dataset/datasets/13.한국어글자체/02.인쇄체_230721_add/01_printed_sentence_images.zip'), WindowsPath('E:/workspace/AIHub_Dataset/datasets/13.한국어글자체/02.인쇄체_230721_add/01_printed_syllable_images.zip'), WindowsPath('E:/workspace/AIHub_Dataset/datasets/13.한국어글자체/02.인쇄체_230721_add/01_printed_word_images.zip'), WindowsPath('E:/workspace/AIHub_Dataset/datasets/13.한국어글자체/03.인쇄체 증강데이터/augmentation_data1.zip'), WindowsPath('E:/workspace/AIHub_Dataset/datasets/13.한국어글자체/03.인쇄체 증강데이터/augmentation_data10.zip'), WindowsPath('E:/workspace/AIHub_Dataset/datasets/13.한국어글자체/03.인쇄체 증강데이터/augmentation_data11.zip'), WindowsPath('E:/workspace/AIHub_Dataset/datasets/13.한국어글자체/03.인쇄체 증강데이터/augmentation_data12.zip'), WindowsPath('E:/workspace/AIHub_Dataset/datasets/13.한국어글자체/03.인쇄체 증강데이터/augmentation_data2.zip'), WindowsPath('E:/workspace/AIHub_Dataset/datasets/13.한국어글자체/03.인쇄체 증강데이터/augmentation_data3.zip'), WindowsPath('E:/workspace/AIHub_Dataset/datasets/13.한국어글자체/03.인쇄체 증강데이터/augmentation_data4.zip'), WindowsPath('E:/workspace/AIHub_Dataset/datasets/13.한국어글자체/03.인쇄체 증강데이터/augmentation_data5.zip'), WindowsPath('E:/workspace/AIHub_Dataset/datasets/13.한국어글자체/03.인쇄체 증강데이터/augmentation_data6.zip'), WindowsPath('E:/workspace/AIHub_Dataset/datasets/13.한국어글자체/03.인쇄체 증강데이터/augmentation_data7.zip'), WindowsPath('E:/workspace/AIHub_Dataset/datasets/13.한국어글자체/03.인쇄체 증강데이터/augmentation_data8.zip'), WindowsPath('E:/workspace/AIHub_Dataset/datasets/13.한국어글자체/03.인쇄체 증강데이터/augmentation_data9.zip'), WindowsPath('E:/workspace/AIHub_Dataset/datasets/13.한국어글자체/04. Text in the wild_230209_add/01_textinthewild_book_images_new.zip'), WindowsPath('E:/workspace/AIHub_Dataset/datasets/13.한국어글자체/04. Text in the wild_230209_add/01_textinthewild_goods_images_new.zip'), WindowsPath('E:/workspace/AIHub_Dataset/datasets/13.한국어글자체/04. Text in the wild_230209_add/01_textinthewild_signboard_images_new.zip'), WindowsPath('E:/workspace/AIHub_Dataset/datasets/13.한국어글자체/04. Text in the wild_230209_add/01_textinthewild_traffic_sign_images_new.zip')]\n"
     ]
    },
    {
     "ename": "KeyboardInterrupt",
     "evalue": "",
     "output_type": "error",
     "traceback": [
      "\u001b[1;31m---------------------------------------------------------------------------\u001b[0m",
      "\u001b[1;31mKeyboardInterrupt\u001b[0m                         Traceback (most recent call last)",
      "Cell \u001b[1;32mIn[1], line 36\u001b[0m\n\u001b[0;32m     33\u001b[0m         \u001b[38;5;28;01mfor\u001b[39;00m origin_path \u001b[38;5;129;01min\u001b[39;00m origin_paths:\n\u001b[0;32m     34\u001b[0m             os\u001b[38;5;241m.\u001b[39mremove(origin_path)\n\u001b[1;32m---> 36\u001b[0m unzip(data_path, delete_origin\u001b[38;5;241m=\u001b[39m\u001b[38;5;28;01mFalse\u001b[39;00m, ignore_exist\u001b[38;5;241m=\u001b[39m\u001b[38;5;28;01mTrue\u001b[39;00m)\n",
      "Cell \u001b[1;32mIn[1], line 29\u001b[0m, in \u001b[0;36munzip\u001b[1;34m(root, delete_origin, ignore_exist)\u001b[0m\n\u001b[0;32m     27\u001b[0m \u001b[38;5;28mprint\u001b[39m(origin_paths)\n\u001b[0;32m     28\u001b[0m \u001b[38;5;28;01mfor\u001b[39;00m origin_path, target_dir \u001b[38;5;129;01min\u001b[39;00m \u001b[38;5;28mzip\u001b[39m(origin_paths, target_dirs):        \n\u001b[1;32m---> 29\u001b[0m     unzip_file(origin_path, target_dir)\n\u001b[0;32m     30\u001b[0m     \u001b[38;5;28mprint\u001b[39m(origin_path)\n\u001b[0;32m     32\u001b[0m \u001b[38;5;28;01mif\u001b[39;00m delete_origin:\n",
      "Cell \u001b[1;32mIn[1], line 11\u001b[0m, in \u001b[0;36munzip_file\u001b[1;34m(zip_file, destination)\u001b[0m\n\u001b[0;32m      9\u001b[0m \u001b[38;5;28;01mdef\u001b[39;00m \u001b[38;5;21munzip_file\u001b[39m(zip_file, destination):\n\u001b[0;32m     10\u001b[0m     \u001b[38;5;28;01mwith\u001b[39;00m zipfile\u001b[38;5;241m.\u001b[39mZipFile(zip_file, \u001b[38;5;124m'\u001b[39m\u001b[38;5;124mr\u001b[39m\u001b[38;5;124m'\u001b[39m) \u001b[38;5;28;01mas\u001b[39;00m zip_ref:\n\u001b[1;32m---> 11\u001b[0m         zip_ref\u001b[38;5;241m.\u001b[39mextractall(destination)\n",
      "File \u001b[1;32mc:\\Users\\admin\\anaconda3\\Lib\\zipfile.py:1681\u001b[0m, in \u001b[0;36mZipFile.extractall\u001b[1;34m(self, path, members, pwd)\u001b[0m\n\u001b[0;32m   1678\u001b[0m     path \u001b[38;5;241m=\u001b[39m os\u001b[38;5;241m.\u001b[39mfspath(path)\n\u001b[0;32m   1680\u001b[0m \u001b[38;5;28;01mfor\u001b[39;00m zipinfo \u001b[38;5;129;01min\u001b[39;00m members:\n\u001b[1;32m-> 1681\u001b[0m     \u001b[38;5;28mself\u001b[39m\u001b[38;5;241m.\u001b[39m_extract_member(zipinfo, path, pwd)\n",
      "File \u001b[1;32mc:\\Users\\admin\\anaconda3\\Lib\\zipfile.py:1735\u001b[0m, in \u001b[0;36mZipFile._extract_member\u001b[1;34m(self, member, targetpath, pwd)\u001b[0m\n\u001b[0;32m   1731\u001b[0m         os\u001b[38;5;241m.\u001b[39mmkdir(targetpath)\n\u001b[0;32m   1732\u001b[0m     \u001b[38;5;28;01mreturn\u001b[39;00m targetpath\n\u001b[0;32m   1734\u001b[0m \u001b[38;5;28;01mwith\u001b[39;00m \u001b[38;5;28mself\u001b[39m\u001b[38;5;241m.\u001b[39mopen(member, pwd\u001b[38;5;241m=\u001b[39mpwd) \u001b[38;5;28;01mas\u001b[39;00m source, \\\n\u001b[1;32m-> 1735\u001b[0m      \u001b[38;5;28mopen\u001b[39m(targetpath, \u001b[38;5;124m\"\u001b[39m\u001b[38;5;124mwb\u001b[39m\u001b[38;5;124m\"\u001b[39m) \u001b[38;5;28;01mas\u001b[39;00m target:\n\u001b[0;32m   1736\u001b[0m     shutil\u001b[38;5;241m.\u001b[39mcopyfileobj(source, target)\n\u001b[0;32m   1738\u001b[0m \u001b[38;5;28;01mreturn\u001b[39;00m targetpath\n",
      "\u001b[1;31mKeyboardInterrupt\u001b[0m: "
     ]
    }
   ],
   "source": [
    "from pathlib import Path\n",
    "import os\n",
    "\n",
    "data_path = \"E:/workspace/AIHub_Dataset/datasets/13.한국어글자체\"\n",
    "\n",
    "import zipfile\n",
    "import os\n",
    "\n",
    "def unzip_file(zip_file, destination):\n",
    "    with zipfile.ZipFile(zip_file, 'r') as zip_ref:\n",
    "        zip_ref.extractall(destination)\n",
    "        \n",
    "def unzip(root, delete_origin=False, ignore_exist = False):\n",
    "    \n",
    "    root = Path(root) # zip 파일들이 있는 데이터 셋의 root\n",
    "    origin_paths = sorted(root.rglob(f\"*.zip\"))\n",
    "    target_dirs = [origin_path.parent/origin_path.stem for origin_path in origin_paths]\n",
    "    \n",
    "    \n",
    "    for target_dir in target_dirs:\n",
    "        if target_dir.exists():\n",
    "            if ignore_exist:\n",
    "                os.remove(target_dir)\n",
    "            else:\n",
    "                raise Exception(f\"The target file '{target_dir}' already exist.\")\n",
    "    \n",
    "    print(origin_paths)\n",
    "    for origin_path, target_dir in zip(origin_paths, target_dirs):        \n",
    "        print(origin_path)\n",
    "        unzip_file(origin_path, target_dir)\n",
    "        \n",
    "    if delete_origin:\n",
    "        for origin_path in origin_paths:\n",
    "            os.remove(origin_path)\n",
    "    \n",
    "unzip(data_path, delete_origin=False, ignore_exist=True)"
   ]
  },
  {
   "cell_type": "code",
   "execution_count": 7,
   "metadata": {},
   "outputs": [],
   "source": [
    "import zipfile\n",
    "import os\n",
    "\n",
    "def unzip_file(zip_file, destination):\n",
    "    with zipfile.ZipFile(zip_file, 'r') as zip_ref:\n",
    "        zip_ref.extractall(destination)\n",
    "\n",
    "# 사용 예시\n",
    "zip_file = r'E:\\workspace\\AIHub_Dataset\\datasets\\test\\01_handwriting_sentence_images.zip'\n",
    "destination = r'E:\\workspace\\AIHub_Dataset\\datasets\\test\\01_handwriting_sentence_images'\n",
    "\n",
    "unzip_file(zip_file, destination)"
   ]
  },
  {
   "cell_type": "code",
   "execution_count": 10,
   "metadata": {},
   "outputs": [
    {
     "name": "stdout",
     "output_type": "stream",
     "text": [
      "hello\n",
      "hello\n"
     ]
    },
    {
     "data": {
      "text/plain": [
       "1"
      ]
     },
     "execution_count": 10,
     "metadata": {},
     "output_type": "execute_result"
    }
   ],
   "source": [
    "def unzip(root, delete_origin=False, ignore_exist = False):\n",
    "    print(\"hello\")\n",
    "    return 1\n",
    "    \n",
    "print(\"hello\")\n",
    "unzip(data_path, delete_origin=True, ignore_exist=True)\n",
    "# print(\"hello\")"
   ]
  },
  {
   "cell_type": "code",
   "execution_count": 19,
   "metadata": {},
   "outputs": [
    {
     "name": "stdout",
     "output_type": "stream",
     "text": [
      "hello\n"
     ]
    },
    {
     "data": {
      "text/plain": [
       "<generator object unzip_all at 0x000001B9FD3F33D0>"
      ]
     },
     "execution_count": 19,
     "metadata": {},
     "output_type": "execute_result"
    }
   ],
   "source": [
    "from pathlib import Path\n",
    "import os\n",
    "\n",
    "data_path = \"E:/workspace/AIHub Dataset/datasets/test\"\n",
    "\n",
    "import zipfile\n",
    "import os\n",
    "\n",
    "def unzip_file(zip_file, destination):\n",
    "    with zipfile.ZipFile(zip_file, 'r', encoding='utf-8') as zip_ref:\n",
    "        zip_ref.extractall(destination)\n",
    "        \n",
    "def unzip(root, delete_origin=False, ignore_exist = False):\n",
    "    print(\"hello\")\n",
    "    return 1\n",
    "    # extensions = OpenDataset.check_zip_extensions(self.args.Unzip.extensions)\n",
    "    root = Path(root) # zip 파일들이 있는 데이터 셋의 root\n",
    "    origin_paths = sorted(root.rglob(f\"*.zip\"))\n",
    "    target_dirs = [origin_path.parent/origin_path.stem for origin_path in origin_paths]\n",
    "    \n",
    "    for target_dir in target_dirs:\n",
    "        if target_dir.exists():\n",
    "            if ignore_exist:\n",
    "                os.remove(target_dir)\n",
    "            else:\n",
    "                yield Exception(f\"The target file '{target_dir}' already exist.\")\n",
    "\n",
    "    \n",
    "print(\"hello\")\n",
    "unzip_all(data_path, delete_origin=True, ignore_exist=True)\n",
    "# print(\"hello\")"
   ]
  },
  {
   "cell_type": "code",
   "execution_count": 4,
   "metadata": {},
   "outputs": [
    {
     "data": {
      "text/plain": [
       "b'\\xc0\\xcc\\xb9\\xe9\\xc0\\xcf\\xc8\\xa3'"
      ]
     },
     "execution_count": 4,
     "metadata": {},
     "output_type": "execute_result"
    }
   ],
   "source": [
    "\"이백일호\".encode('cp949')"
   ]
  },
  {
   "cell_type": "code",
   "execution_count": 5,
   "metadata": {},
   "outputs": [
    {
     "data": {
      "text/plain": [
       "b'\\xec\\x9d\\xb4\\xeb\\xb0\\xb1\\xec\\x9d\\xbc\\xed\\x98\\xb8'"
      ]
     },
     "execution_count": 5,
     "metadata": {},
     "output_type": "execute_result"
    }
   ],
   "source": [
    "\"이백일호\".encode('utf-8')"
   ]
  },
  {
   "cell_type": "code",
   "execution_count": 7,
   "metadata": {},
   "outputs": [
    {
     "data": {
      "text/plain": [
       "b'\\xff\\xfe\\x00\\x00t\\xc7\\x00\\x001\\xbc\\x00\\x00|\\xc7\\x00\\x008\\xd6\\x00\\x00'"
      ]
     },
     "execution_count": 7,
     "metadata": {},
     "output_type": "execute_result"
    }
   ],
   "source": [
    "\"이백일호\".encode('utf-32')"
   ]
  },
  {
   "cell_type": "code",
   "execution_count": 8,
   "metadata": {},
   "outputs": [
    {
     "data": {
      "text/plain": [
       "'이백일호'"
      ]
     },
     "execution_count": 8,
     "metadata": {},
     "output_type": "execute_result"
    }
   ],
   "source": [
    "u\"이백일호\""
   ]
  },
  {
   "cell_type": "code",
   "execution_count": null,
   "metadata": {},
   "outputs": [],
   "source": []
  }
 ],
 "metadata": {
  "kernelspec": {
   "display_name": "paddle_env",
   "language": "python",
   "name": "python3"
  },
  "language_info": {
   "codemirror_mode": {
    "name": "ipython",
    "version": 3
   },
   "file_extension": ".py",
   "mimetype": "text/x-python",
   "name": "python",
   "nbconvert_exporter": "python",
   "pygments_lexer": "ipython3",
   "version": "3.11.5"
  }
 },
 "nbformat": 4,
 "nbformat_minor": 2
}
